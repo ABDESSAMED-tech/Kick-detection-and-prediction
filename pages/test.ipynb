{
 "cells": [
  {
   "cell_type": "code",
   "execution_count": 1,
   "metadata": {},
   "outputs": [],
   "source": [
    "import pandas as pd"
   ]
  },
  {
   "cell_type": "code",
   "execution_count": 1,
   "metadata": {},
   "outputs": [
    {
     "ename": "NameError",
     "evalue": "name 'pd' is not defined",
     "output_type": "error",
     "traceback": [
      "\u001b[1;31m---------------------------------------------------------------------------\u001b[0m",
      "\u001b[1;31mNameError\u001b[0m                                 Traceback (most recent call last)",
      "Cell \u001b[1;32mIn[1], line 1\u001b[0m\n\u001b[1;32m----> 1\u001b[0m df\u001b[39m=\u001b[39mpd\u001b[39m.\u001b[39mread_excel(\u001b[39mr\u001b[39m\u001b[39m\"\u001b[39m\u001b[39mC:\u001b[39m\u001b[39m\\\u001b[39m\u001b[39mUsers\u001b[39m\u001b[39m\\\u001b[39m\u001b[39mhp\u001b[39m\u001b[39m\\\u001b[39m\u001b[39mDesktop\u001b[39m\u001b[39m\\\u001b[39m\u001b[39mM2\u001b[39m\u001b[39m\\\u001b[39m\u001b[39mPFE\u001b[39m\u001b[39m\\\u001b[39m\u001b[39mCode\u001b[39m\u001b[39m\\\u001b[39m\u001b[39mdataset\u001b[39m\u001b[39m\\\u001b[39m\u001b[39mWell-15_04-10-2021.xlsx\u001b[39m\u001b[39m\"\u001b[39m)\n",
      "\u001b[1;31mNameError\u001b[0m: name 'pd' is not defined"
     ]
    }
   ],
   "source": [
    "df=pd.read_excel(r\"dataset\\Well-6_01-07-2022.xlsx\")"
   ]
  },
  {
   "cell_type": "code",
   "execution_count": 11,
   "metadata": {},
   "outputs": [
    {
     "data": {
      "text/plain": [
       "Index(['index', 'CHKP (kPa)', 'SPM1 (1/s)', 'SKNO', 'SPM2 (1/s)', 'RID',\n",
       "       'SQID', 'TVA (m3)', 'DATE', 'TVCA (m3)', 'TIME', 'MFOP ((m3/s)/(m3/s))',\n",
       "       'ACTC', 'MFOA (m3/s)', 'DBTM (m)', 'MFIA (m3/s)', 'MDOA (kg/m3)',\n",
       "       'DMEA (m)', 'DVER (m)', 'MTOA (degC)', 'BPOS (m)', 'MTIA (degC)',\n",
       "       'ROPA (m/h)', 'HKLA (N)', 'HKLX (N)', 'STKC', 'WOBA (N)', 'WOBX (N)',\n",
       "       'DRTM (m)', 'TQA (N.m)', 'TQX (N.m)', 'GASA (mol/mol)', 'RPMA (rad/s)',\n",
       "       'SPPA (kPa)', 'MDIA (kg/m3)', 'ROPI (m/s)', 'SPM3 (1/s)', 'RIG_STATE',\n",
       "       'Unnamed: 38', 'STATUS', 'Unnamed: 40', 'Unnamed: 41'],\n",
       "      dtype='object')"
      ]
     },
     "execution_count": 11,
     "metadata": {},
     "output_type": "execute_result"
    }
   ],
   "source": [
    "df.columns"
   ]
  },
  {
   "cell_type": "code",
   "execution_count": 12,
   "metadata": {},
   "outputs": [],
   "source": [
    "columns=['index','TVA (m3)','SPPA (kPa)','MFOA (m3/s)','MFOP ((m3/s)/(m3/s))','GASA (mol/mol)', 'STATUS','Unnamed: 40']"
   ]
  },
  {
   "cell_type": "code",
   "execution_count": 7,
   "metadata": {},
   "outputs": [
    {
     "data": {
      "text/plain": [
       "['Well-15_04-10-2021.xlsx',\n",
       " 'Well-17_07-09-2021.xlsx',\n",
       " 'Well-19_09-06-2021.xlsx',\n",
       " 'Well-26_06-09-2020.xlsx',\n",
       " 'Well-29_20-08-2020.xlsx',\n",
       " 'Well-6_01-07-2022.xlsx',\n",
       " 'Well-8_30-05-2022.xlsx']"
      ]
     },
     "execution_count": 7,
     "metadata": {},
     "output_type": "execute_result"
    }
   ],
   "source": [
    "import os\n",
    "path=r'C:\\Users\\hp\\Desktop\\M2\\PFE\\Code\\dataset'\n",
    "files=os.listdir(path)\n",
    "files"
   ]
  },
  {
   "cell_type": "code",
   "execution_count": null,
   "metadata": {},
   "outputs": [],
   "source": [
    "columns=['index','TVA (m3)','SPPA (kPa)','MFOA (m3/s)','MFOP ((m3/s)/(m3/s))','GASA (mol/mol)', 'STATUS']"
   ]
  },
  {
   "cell_type": "code",
   "execution_count": 13,
   "metadata": {},
   "outputs": [
    {
     "ename": "KeyError",
     "evalue": "\"['MFOA (m3/s)'] not in index\"",
     "output_type": "error",
     "traceback": [
      "\u001b[1;31m---------------------------------------------------------------------------\u001b[0m",
      "\u001b[1;31mKeyError\u001b[0m                                  Traceback (most recent call last)",
      "Cell \u001b[1;32mIn[13], line 3\u001b[0m\n\u001b[0;32m      1\u001b[0m \u001b[39mfor\u001b[39;00m i \u001b[39min\u001b[39;00m  files:\n\u001b[0;32m      2\u001b[0m     df\u001b[39m=\u001b[39mpd\u001b[39m.\u001b[39mread_excel(path\u001b[39m+\u001b[39m\u001b[39m'\u001b[39m\u001b[39m/\u001b[39m\u001b[39m'\u001b[39m\u001b[39m+\u001b[39mi)\n\u001b[1;32m----> 3\u001b[0m     new_file \u001b[39m=\u001b[39m df[columns]\n\u001b[0;32m      4\u001b[0m     new_file\u001b[39m.\u001b[39mto_excel(i, index\u001b[39m=\u001b[39m\u001b[39mFalse\u001b[39;00m)\n",
      "File \u001b[1;32mc:\\Users\\hp\\AppData\\Local\\Programs\\Python\\Python311\\Lib\\site-packages\\pandas\\core\\frame.py:3813\u001b[0m, in \u001b[0;36mDataFrame.__getitem__\u001b[1;34m(self, key)\u001b[0m\n\u001b[0;32m   3811\u001b[0m     \u001b[39mif\u001b[39;00m is_iterator(key):\n\u001b[0;32m   3812\u001b[0m         key \u001b[39m=\u001b[39m \u001b[39mlist\u001b[39m(key)\n\u001b[1;32m-> 3813\u001b[0m     indexer \u001b[39m=\u001b[39m \u001b[39mself\u001b[39;49m\u001b[39m.\u001b[39;49mcolumns\u001b[39m.\u001b[39;49m_get_indexer_strict(key, \u001b[39m\"\u001b[39;49m\u001b[39mcolumns\u001b[39;49m\u001b[39m\"\u001b[39;49m)[\u001b[39m1\u001b[39m]\n\u001b[0;32m   3815\u001b[0m \u001b[39m# take() does not accept boolean indexers\u001b[39;00m\n\u001b[0;32m   3816\u001b[0m \u001b[39mif\u001b[39;00m \u001b[39mgetattr\u001b[39m(indexer, \u001b[39m\"\u001b[39m\u001b[39mdtype\u001b[39m\u001b[39m\"\u001b[39m, \u001b[39mNone\u001b[39;00m) \u001b[39m==\u001b[39m \u001b[39mbool\u001b[39m:\n",
      "File \u001b[1;32mc:\\Users\\hp\\AppData\\Local\\Programs\\Python\\Python311\\Lib\\site-packages\\pandas\\core\\indexes\\base.py:6070\u001b[0m, in \u001b[0;36mIndex._get_indexer_strict\u001b[1;34m(self, key, axis_name)\u001b[0m\n\u001b[0;32m   6067\u001b[0m \u001b[39melse\u001b[39;00m:\n\u001b[0;32m   6068\u001b[0m     keyarr, indexer, new_indexer \u001b[39m=\u001b[39m \u001b[39mself\u001b[39m\u001b[39m.\u001b[39m_reindex_non_unique(keyarr)\n\u001b[1;32m-> 6070\u001b[0m \u001b[39mself\u001b[39;49m\u001b[39m.\u001b[39;49m_raise_if_missing(keyarr, indexer, axis_name)\n\u001b[0;32m   6072\u001b[0m keyarr \u001b[39m=\u001b[39m \u001b[39mself\u001b[39m\u001b[39m.\u001b[39mtake(indexer)\n\u001b[0;32m   6073\u001b[0m \u001b[39mif\u001b[39;00m \u001b[39misinstance\u001b[39m(key, Index):\n\u001b[0;32m   6074\u001b[0m     \u001b[39m# GH 42790 - Preserve name from an Index\u001b[39;00m\n",
      "File \u001b[1;32mc:\\Users\\hp\\AppData\\Local\\Programs\\Python\\Python311\\Lib\\site-packages\\pandas\\core\\indexes\\base.py:6133\u001b[0m, in \u001b[0;36mIndex._raise_if_missing\u001b[1;34m(self, key, indexer, axis_name)\u001b[0m\n\u001b[0;32m   6130\u001b[0m     \u001b[39mraise\u001b[39;00m \u001b[39mKeyError\u001b[39;00m(\u001b[39mf\u001b[39m\u001b[39m\"\u001b[39m\u001b[39mNone of [\u001b[39m\u001b[39m{\u001b[39;00mkey\u001b[39m}\u001b[39;00m\u001b[39m] are in the [\u001b[39m\u001b[39m{\u001b[39;00maxis_name\u001b[39m}\u001b[39;00m\u001b[39m]\u001b[39m\u001b[39m\"\u001b[39m)\n\u001b[0;32m   6132\u001b[0m not_found \u001b[39m=\u001b[39m \u001b[39mlist\u001b[39m(ensure_index(key)[missing_mask\u001b[39m.\u001b[39mnonzero()[\u001b[39m0\u001b[39m]]\u001b[39m.\u001b[39munique())\n\u001b[1;32m-> 6133\u001b[0m \u001b[39mraise\u001b[39;00m \u001b[39mKeyError\u001b[39;00m(\u001b[39mf\u001b[39m\u001b[39m\"\u001b[39m\u001b[39m{\u001b[39;00mnot_found\u001b[39m}\u001b[39;00m\u001b[39m not in index\u001b[39m\u001b[39m\"\u001b[39m)\n",
      "\u001b[1;31mKeyError\u001b[0m: \"['MFOA (m3/s)'] not in index\""
     ]
    }
   ],
   "source": [
    "for i in  files:\n",
    "    df=pd.read_excel(path+'/'+i)\n",
    "    new_file = df[columns]\n",
    "    new_file.to_excel(i, index=False)\n",
    "    \n",
    "    "
   ]
  },
  {
   "cell_type": "code",
   "execution_count": 8,
   "metadata": {},
   "outputs": [
    {
     "data": {
      "text/plain": [
       "{'index': 0,\n",
       " 'CHKP (kPa)': 0,\n",
       " 'CHKPD (kPa)': 0,\n",
       " 'SPM1 (1/s)': 0,\n",
       " 'SPM2 (1/s)': 0,\n",
       " 'SPM3 (1/s)': 0,\n",
       " 'TVA (m3)': 0,\n",
       " 'DATE': 0,\n",
       " 'TVCA (m3)': 0,\n",
       " 'TIME': 0,\n",
       " 'MFOP ((m3/s)/(m3/s))': 0,\n",
       " 'DBTM (m)': 0,\n",
       " 'MFIA (m3/s)': 0,\n",
       " 'MDOA (kg/m3)': 0,\n",
       " 'DMEA (m)': 0,\n",
       " 'MDIA (kg/m3)': 0,\n",
       " 'DVER (m)': 0,\n",
       " 'MTOA (degC)': 0,\n",
       " 'BPOS (m)': 0,\n",
       " 'MTIA (degC)': 0,\n",
       " 'ROPA (m/h)': 0,\n",
       " 'MCOA (S/m)': 16955,\n",
       " 'HKLA (N)': 0,\n",
       " 'MCIA (S/m)': 16955,\n",
       " 'STKC': 0,\n",
       " 'WOBA (N)': 0,\n",
       " 'LSTK': 0,\n",
       " 'DRTM (m)': 0,\n",
       " 'TQA (N.m)': 0,\n",
       " 'TQX (N.m)': 0,\n",
       " 'GASA (mol/mol)': 16955,\n",
       " 'ROPI (m/s)': 0,\n",
       " 'RPMA (rad/s)': 0,\n",
       " 'CHKPU (kPa)': 0,\n",
       " 'SPPA (kPa)': 0,\n",
       " 'CHKT (degC)': 0,\n",
       " 'RIG_STATE': 0}"
      ]
     },
     "execution_count": 8,
     "metadata": {},
     "output_type": "execute_result"
    }
   ],
   "source": [
    "dict(df.isna().sum())"
   ]
  }
 ],
 "metadata": {
  "kernelspec": {
   "display_name": "Python 3",
   "language": "python",
   "name": "python3"
  },
  "language_info": {
   "codemirror_mode": {
    "name": "ipython",
    "version": 3
   },
   "file_extension": ".py",
   "mimetype": "text/x-python",
   "name": "python",
   "nbconvert_exporter": "python",
   "pygments_lexer": "ipython3",
   "version": "3.11.3"
  },
  "orig_nbformat": 4
 },
 "nbformat": 4,
 "nbformat_minor": 2
}
